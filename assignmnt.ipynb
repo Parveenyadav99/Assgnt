{
 "cells": [
  {
   "cell_type": "code",
   "execution_count": 1,
   "id": "1750b705",
   "metadata": {},
   "outputs": [
    {
     "data": {
      "text/plain": [
       "'The Python programming language was created by Guido van Rossum and first released in 1991.'"
      ]
     },
     "execution_count": 1,
     "metadata": {},
     "output_type": "execute_result"
    }
   ],
   "source": [
    "# 1. Who developed Python Programming Language?\n",
    "'''The Python programming language was created by Guido van Rossum and first released in 1991.'''"
   ]
  },
  {
   "cell_type": "code",
   "execution_count": 2,
   "id": "80b0710c",
   "metadata": {},
   "outputs": [
    {
     "data": {
      "text/plain": [
       "\"Python supports multiple programming paradigms, including:\\n\\nObject-Oriented Programming (OOP) - Python has classes, objects, and inheritance, allowing for the creation of complex object-oriented applications.\\n\\nImperative Programming - This type of programming allows for the use of statements that change a program's state. Python supports imperative programming with its procedural constructs like functions and loops.\\n\\nFunctional Programming - Python supports functional programming through its built-in functions and the use of first-class functions, meaning functions can be assigned to variables and passed as arguments to other functions.\\n\\nScripting - Python can also be used as a scripting language, allowing for rapid prototyping and automation of tasks.\""
      ]
     },
     "execution_count": 2,
     "metadata": {},
     "output_type": "execute_result"
    }
   ],
   "source": [
    "# 2. Which type of Programming does Python support\n",
    "'''Python supports multiple programming paradigms, including:\n",
    "\n",
    "Object-Oriented Programming (OOP) - Python has classes, objects, and inheritance, allowing for the creation of complex object-oriented applications.\n",
    "\n",
    "Imperative Programming - This type of programming allows for the use of statements that change a program's state. Python supports imperative programming with its procedural constructs like functions and loops.\n",
    "\n",
    "Functional Programming - Python supports functional programming through its built-in functions and the use of first-class functions, meaning functions can be assigned to variables and passed as arguments to other functions.\n",
    "\n",
    "Scripting - Python can also be used as a scripting language, allowing for rapid prototyping and automation of tasks.'''"
   ]
  },
  {
   "cell_type": "code",
   "execution_count": 3,
   "id": "db6ffbd5",
   "metadata": {},
   "outputs": [
    {
     "data": {
      "text/plain": [
       "'Yes, Python is case-sensitive when dealing with identifiers, such as variables, functions, and class names.\\n\\nFor example, the names \"Variable\", \"variable\", and \"VARIABLE\" would all be considered different identifiers in Python. It\\'s a good practice to name your variables, functions, and classes using lowercase letters and separating words using underscores (e.g. my_variable, my_function, my_class), as this is the common convention in the Python community.'"
      ]
     },
     "execution_count": 3,
     "metadata": {},
     "output_type": "execute_result"
    }
   ],
   "source": [
    "# 3. Is Python case sensitive when dealing with identifiers?\n",
    "'''Yes, Python is case-sensitive when dealing with identifiers, such as variables, functions, and class names.\n",
    "\n",
    "For example, the names \"Variable\", \"variable\", and \"VARIABLE\" would all be considered different identifiers in Python. It's a good practice to name your variables, functions, and classes using lowercase letters and separating words using underscores (e.g. my_variable, my_function, my_class), as this is the common convention in the Python community.'''"
   ]
  },
  {
   "cell_type": "code",
   "execution_count": 4,
   "id": "ca279ceb",
   "metadata": {},
   "outputs": [
    {
     "data": {
      "text/plain": [
       "'The correct file extension for Python source code files is \".py\". This is the standard extension for Python files, and is recognized by the Python interpreter as a Python source file.\\n\\nFor example, a Python script named \"example.py\" would be a file containing Python code that could be executed by the Python interpreter.'"
      ]
     },
     "execution_count": 4,
     "metadata": {},
     "output_type": "execute_result"
    }
   ],
   "source": [
    "# 4. What is the correct extension of the Python file?\n",
    "'''The correct file extension for Python source code files is \".py\". This is the standard extension for Python files, and is recognized by the Python interpreter as a Python source file.\n",
    "\n",
    "For example, a Python script named \"example.py\" would be a file containing Python code that could be executed by the Python interpreter.'''"
   ]
  },
  {
   "cell_type": "code",
   "execution_count": 5,
   "id": "4b7300cf",
   "metadata": {},
   "outputs": [
    {
     "data": {
      "text/plain": [
       "\"Python is an interpreted language, which means that its code is executed line by line by an interpreter, rather than being compiled into machine code before execution. This approach makes it easy to write and debug code, as well as making it possible to use Python for tasks such as scripting and rapid prototyping.\\n\\nWhen a Python script is executed, the interpreter reads the source code and executes each line one at a time. This allows for easy debugging, as any errors will typically be reported as soon as they occur, allowing the programmer to quickly fix the problem.\\n\\nIt's worth noting that some implementations of Python, such as CPython and PyPy, use just-in-time (JIT) compilation to improve the performance of interpreted code. This means that certain parts of the code are compiled into machine code on the fly, making the overall execution faster, while still retaining the benefits of an interpreted language.\""
      ]
     },
     "execution_count": 5,
     "metadata": {},
     "output_type": "execute_result"
    }
   ],
   "source": [
    "# 5. Is Python code compiled or interpreted?\n",
    "'''Python is an interpreted language, which means that its code is executed line by line by an interpreter, rather than being compiled into machine code before execution. This approach makes it easy to write and debug code, as well as making it possible to use Python for tasks such as scripting and rapid prototyping.\n",
    "\n",
    "When a Python script is executed, the interpreter reads the source code and executes each line one at a time. This allows for easy debugging, as any errors will typically be reported as soon as they occur, allowing the programmer to quickly fix the problem.\n",
    "\n",
    "It's worth noting that some implementations of Python, such as CPython and PyPy, use just-in-time (JIT) compilation to improve the performance of interpreted code. This means that certain parts of the code are compiled into machine code on the fly, making the overall execution faster, while still retaining the benefits of an interpreted language.'''"
   ]
  },
  {
   "cell_type": "code",
   "execution_count": 6,
   "id": "f07a79d0",
   "metadata": {},
   "outputs": [
    {
     "data": {
      "text/plain": [
       "'Functions - A function is a block of code that can be reused throughout a program. Functions are defined using the \"def\" keyword, followed by the function name, parameters, and the code block inside the function.\\n\\nClasses - Classes are blocks of code that define objects. Classes are defined using the \"class\" keyword, followed by the class name and the code block that defines the class attributes and methods.\\n\\nLoops - Loops are blocks of code that repeat a set of statements until a specific condition is met. In Python, the two most common types of loops are the \"for\" loop and the \"while\" loop.\\n\\nConditional Statements - Conditional statements are blocks of code that only execute if a specific condition is met. Python supports the \"if\" statement, as well as \"if-else\" and \"if-elif-else\" statements for more complex conditionals.\\n\\ntry-except blocks - These blocks of code are used to handle exceptions, which are runtime errors that can occur during the execution of a program. The \"try\" block contains the code that might raise an exception, and the \"except\" block contains the code that is executed when an exception is caught.'"
      ]
     },
     "execution_count": 6,
     "metadata": {},
     "output_type": "execute_result"
    }
   ],
   "source": [
    "# 6. Name a few blocks of code used to define in Python language?\n",
    "'''Functions - A function is a block of code that can be reused throughout a program. Functions are defined using the \"def\" keyword, followed by the function name, parameters, and the code block inside the function.\n",
    "\n",
    "Classes - Classes are blocks of code that define objects. Classes are defined using the \"class\" keyword, followed by the class name and the code block that defines the class attributes and methods.\n",
    "\n",
    "Loops - Loops are blocks of code that repeat a set of statements until a specific condition is met. In Python, the two most common types of loops are the \"for\" loop and the \"while\" loop.\n",
    "\n",
    "Conditional Statements - Conditional statements are blocks of code that only execute if a specific condition is met. Python supports the \"if\" statement, as well as \"if-else\" and \"if-elif-else\" statements for more complex conditionals.\n",
    "\n",
    "try-except blocks - These blocks of code are used to handle exceptions, which are runtime errors that can occur during the execution of a program. The \"try\" block contains the code that might raise an exception, and the \"except\" block contains the code that is executed when an exception is caught.'''"
   ]
  },
  {
   "cell_type": "code",
   "execution_count": 7,
   "id": "f2d88373",
   "metadata": {},
   "outputs": [],
   "source": [
    "# 7. State a character used to give single-line comments in Python?\n",
    "# In Python, the pound sign (#) is used to indicate a single-line comment. Any text following a pound sign on a line will be ignored by the Python interpreter."
   ]
  },
  {
   "cell_type": "code",
   "execution_count": 10,
   "id": "f0f5fa15",
   "metadata": {},
   "outputs": [],
   "source": [
    "# 8. Mention functions which can help us to find the version of python that we are currently working on?\n"
   ]
  },
  {
   "cell_type": "code",
   "execution_count": 9,
   "id": "0815419e",
   "metadata": {},
   "outputs": [
    {
     "name": "stdout",
     "output_type": "stream",
     "text": [
      "3.9.7\n"
     ]
    }
   ],
   "source": [
    "import platform\n",
    "print(platform.python_version())\n"
   ]
  },
  {
   "cell_type": "code",
   "execution_count": 11,
   "id": "24f85440",
   "metadata": {},
   "outputs": [
    {
     "data": {
      "text/plain": [
       "'\"lambda function\". A lambda function is a small, anonymous function that is defined using the lambda keyword. Unlike regular functions, which are defined using the def keyword, lambda functions are defined in a single line and do not have a name.'"
      ]
     },
     "execution_count": 11,
     "metadata": {},
     "output_type": "execute_result"
    }
   ],
   "source": [
    "# 9. Python supports the creation of anonymous functions at runtime, using a construct called\n",
    "'''\"lambda function\". A lambda function is a small, anonymous function that is defined using the lambda keyword. Unlike regular functions, which are defined using the def keyword, lambda functions are defined in a single line and do not have a name.'''"
   ]
  },
  {
   "cell_type": "code",
   "execution_count": 12,
   "id": "78a92448",
   "metadata": {},
   "outputs": [
    {
     "data": {
      "text/plain": [
       "'\"pip\" stands for \"Pip Installs Packages\". It is a package management system for Python that allows you to install and manage packages (i.e. libraries, modules, and tools) for use in your Python projects.'"
      ]
     },
     "execution_count": 12,
     "metadata": {},
     "output_type": "execute_result"
    }
   ],
   "source": [
    "# 10. What does pip stand for python?\n",
    "'''\"pip\" stands for \"Pip Installs Packages\". It is a package management system for Python that allows you to install and manage packages (i.e. libraries, modules, and tools) for use in your Python projects.'''"
   ]
  },
  {
   "cell_type": "code",
   "execution_count": null,
   "id": "1d177424",
   "metadata": {},
   "outputs": [],
   "source": [
    "# 11. Mention a few built-in functions in python?\n",
    "'''len() - returns the length of a sequence (such as a string, list, or tuple).\n",
    "\n",
    "type() - returns the type of an object.\n",
    "\n",
    "int() - converts a number or a string to an integer.\n",
    "\n",
    "float() - converts a number or a string to a floating-point number.\n",
    "\n",
    "str() - converts a number or an object to a string.\n",
    "\n",
    "list() - converts a tuple or a string to a list.\n",
    "\n",
    "tuple() - converts a list or a string to a tuple.\n",
    "\n",
    "sorted() - sorts a list.\n",
    "\n",
    "sum() - calculates the sum of a sequence of numbers.\n",
    "\n",
    "min() - returns the smallest item in a sequence or the smallest of two or more arguments.\n",
    "\n",
    "max() - returns the largest item in a sequence or the largest of two or more arguments.\n",
    "\n",
    "'''"
   ]
  },
  {
   "cell_type": "code",
   "execution_count": 13,
   "id": "c65412a9",
   "metadata": {},
   "outputs": [
    {
     "data": {
      "text/plain": [
       "'to keep the length of identifiers to a reasonable length, making them descriptive and easy to understand.\\n\\nIn practice, the maximum length of an identifier is determined by the amount of memory available on your system. If you create an identifier that is too long, you may run into memory limitations, and your program may crash or produce unexpected results.'"
      ]
     },
     "execution_count": 13,
     "metadata": {},
     "output_type": "execute_result"
    }
   ],
   "source": [
    "# 12. What is the maximum possible length of an identifier in Python\n",
    "'''to keep the length of identifiers to a reasonable length, making them descriptive and easy to understand.\n",
    "\n",
    "In practice, the maximum length of an identifier is determined by the amount of memory available on your system. If you create an identifier that is too long, you may run into memory limitations, and your program may crash or produce unexpected results.'''"
   ]
  },
  {
   "cell_type": "code",
   "execution_count": 14,
   "id": "07d5dd07",
   "metadata": {},
   "outputs": [
    {
     "data": {
      "text/plain": [
       "\"Easy to Learn: Python has a straightforward and simple syntax, making it an easy language to learn, especially for beginners. Its syntax is intuitive and easy to read, which helps to reduce the cost of program maintenance.\\n\\nVersatile: Python can be used for a wide range of tasks, including web development, scientific computing, data analysis, artificial intelligence, and more. This versatility makes it a great choice for many different projects.\\n\\nLarge Standard Library: Python comes with a large standard library that includes modules for almost any task you can imagine, from web development to data analysis. This means that you can do a lot with Python without having to write a lot of code yourself.\\n\\nHigh-level Language: Python is a high-level language, which means that it provides a higher level of abstraction from the underlying hardware and system resources. This makes it easier to write complex programs without having to worry about the underlying details.\\n\\nDynamic Typing: In Python, you don't have to declare the type of a variable when you create it. The type of the variable is determined dynamically at runtime, which makes it easier to write code quickly and reduces the number of errors caused by type mismatches.\\n\\nInterpreted Language: Python is an interpreted language, which means that you can execute code as soon as you write it. This makes it easier to test and debug your code, as you can see the results of your changes right away.\""
      ]
     },
     "execution_count": 14,
     "metadata": {},
     "output_type": "execute_result"
    }
   ],
   "source": [
    "# 13. What are the benefits of using Python?\n",
    "'''Easy to Learn: Python has a straightforward and simple syntax, making it an easy language to learn, especially for beginners. Its syntax is intuitive and easy to read, which helps to reduce the cost of program maintenance.\n",
    "\n",
    "Versatile: Python can be used for a wide range of tasks, including web development, scientific computing, data analysis, artificial intelligence, and more. This versatility makes it a great choice for many different projects.\n",
    "\n",
    "Large Standard Library: Python comes with a large standard library that includes modules for almost any task you can imagine, from web development to data analysis. This means that you can do a lot with Python without having to write a lot of code yourself.\n",
    "\n",
    "High-level Language: Python is a high-level language, which means that it provides a higher level of abstraction from the underlying hardware and system resources. This makes it easier to write complex programs without having to worry about the underlying details.\n",
    "\n",
    "Dynamic Typing: In Python, you don't have to declare the type of a variable when you create it. The type of the variable is determined dynamically at runtime, which makes it easier to write code quickly and reduces the number of errors caused by type mismatches.\n",
    "\n",
    "Interpreted Language: Python is an interpreted language, which means that you can execute code as soon as you write it. This makes it easier to test and debug your code, as you can see the results of your changes right away.'''"
   ]
  },
  {
   "cell_type": "code",
   "execution_count": 15,
   "id": "2072a175",
   "metadata": {},
   "outputs": [
    {
     "data": {
      "text/plain": [
       "'Memory management in Python is automatic, which means that the Python interpreter automatically manages the allocation and deallocation of memory. This means that the programmer does not have to worry about explicitly freeing memory when it is no longer needed.\\n\\nThe Python memory manager is implemented as part of the Python interpreter and is responsible for allocating and freeing memory as needed. It uses a memory management technique known as reference counting, which keeps track of the number of references to an object in memory. When the reference count of an object drops to zero, the memory occupied by the object is automatically freed.'"
      ]
     },
     "execution_count": 15,
     "metadata": {},
     "output_type": "execute_result"
    }
   ],
   "source": [
    "# 14. How is memory managed in Python?\n",
    "'''Memory management in Python is automatic, which means that the Python interpreter automatically manages the allocation and deallocation of memory. This means that the programmer does not have to worry about explicitly freeing memory when it is no longer needed.\n",
    "\n",
    "The Python memory manager is implemented as part of the Python interpreter and is responsible for allocating and freeing memory as needed. It uses a memory management technique known as reference counting, which keeps track of the number of references to an object in memory. When the reference count of an object drops to zero, the memory occupied by the object is automatically freed.'''"
   ]
  },
  {
   "cell_type": "code",
   "execution_count": null,
   "id": "8c405e33",
   "metadata": {},
   "outputs": [],
   "source": [
    "# 15. How to install Python on Windows and set path variables?\n",
    "'''Go to the Python official website (https://www.python.org/downloads/windows/) and download the latest version of Python for Windows.\n",
    "\n",
    "Run the downloaded Python installation file and follow the instructions on the screen. Make sure to select the option to add Python to your PATH environment variable during the installation process.\n",
    "\n",
    "Open the Command Prompt or the Windows PowerShell and run the following command to verify that Python has been installed correctly:\n",
    "\n",
    "css\n",
    "Copy code\n",
    "python --version\n",
    "This should display the version of Python that you have installed on your system.\n",
    "\n",
    "To set the PATH environment variable, follow these steps:\n",
    "Open the Start menu and search for \"Environment Variables\"\n",
    "Click on \"Edit the system environment variables\"\n",
    "Click on the \"Environment Variables\" button\n",
    "Under \"System Variables\", scroll down and find the \"Path\" variable, then click on \"Edit\"\n",
    "Click on \"New\" and add the location of the Python executable file, which is usually located in the \"C:\\PythonXX\\bin\" folder (where \"XX\" is the version number of Python you have installed).\n",
    "Close the Command Prompt or Windows PowerShell and reopen it to ensure that the changes take effect.'''"
   ]
  },
  {
   "cell_type": "code",
   "execution_count": 16,
   "id": "c374c512",
   "metadata": {},
   "outputs": [
    {
     "data": {
      "text/plain": [
       "\"Yes, python is very sensible about indentation, if code is not properly indented it won't be executed, as python doesn't have brackets to separate code segments then it is necessary to indent pretty well\\n\\n 0\\n In Python, indentation is done using spaces or tabs, and the number of spaces or tabs used to indent the code determines the level of indentation. By convention, most Python code uses 4 spaces for indentation.\""
      ]
     },
     "execution_count": 16,
     "metadata": {},
     "output_type": "execute_result"
    }
   ],
   "source": [
    "# 16. Is indentation required in python?\n",
    "'''Yes, python is very sensible about indentation, if code is not properly indented it won't be executed, as python doesn't have brackets to separate code segments then it is necessary to indent pretty well\n",
    "\n",
    " 0\n",
    " In Python, indentation is done using spaces or tabs, and the number of spaces or tabs used to indent the code determines the level of indentation. By convention, most Python code uses 4 spaces for indentation.'''"
   ]
  },
  {
   "cell_type": "code",
   "execution_count": null,
   "id": "2ed676b6",
   "metadata": {},
   "outputs": [],
   "source": []
  }
 ],
 "metadata": {
  "kernelspec": {
   "display_name": "Python 3 (ipykernel)",
   "language": "python",
   "name": "python3"
  },
  "language_info": {
   "codemirror_mode": {
    "name": "ipython",
    "version": 3
   },
   "file_extension": ".py",
   "mimetype": "text/x-python",
   "name": "python",
   "nbconvert_exporter": "python",
   "pygments_lexer": "ipython3",
   "version": "3.9.7"
  }
 },
 "nbformat": 4,
 "nbformat_minor": 5
}
